{
 "cells": [
  {
   "cell_type": "markdown",
   "metadata": {},
   "source": [
    "# Machine Learning: Movie Recommender System \n",
    "## Benjamin Shelton and Garrett Morris"
   ]
  },
  {
   "cell_type": "markdown",
   "metadata": {},
   "source": [
    "### *Import Statements*\n"
   ]
  },
  {
   "cell_type": "code",
   "execution_count": 1,
   "metadata": {
    "collapsed": true
   },
   "outputs": [],
   "source": [
    "import csv\n",
    "import numpy as np"
   ]
  },
  {
   "cell_type": "markdown",
   "metadata": {},
   "source": [
    "### *Basic Housekeeping*\n",
    "**NUM_USERS** should be obvious\n",
    "\n",
    "**learning_rate** is how quickly our model learns the genres each user likes\n",
    "\n",
    "**genre_key** is used to reference which index in the other lists containted in the dictionaries is which genre\n",
    "\n",
    "**csv stuff** opens the excel files we're going to use-the encoding for the csv files has a line of garbage as the first line so that's why we pop(0)"
   ]
  },
  {
   "cell_type": "code",
   "execution_count": 2,
   "metadata": {},
   "outputs": [
    {
     "data": {
      "text/plain": [
       "['userId', 'movieId', 'rating', 'timestamp']"
      ]
     },
     "execution_count": 2,
     "metadata": {},
     "output_type": "execute_result"
    }
   ],
   "source": [
    "NUM_USERS = 610\n",
    "learning_rate = 0.3\n",
    "\n",
    "genreKey = ['Action', 'Adventure', 'Animation', 'Children', 'Comedy', 'Crime', 'Documentary', 'Drama', 'Fantasy', 'Film-Noir', 'Horror', \n",
    "'Musical', 'Mystery', 'Romance', 'Sci-Fi', 'Thriller', 'War', 'Western', 'IMAX', '(no genres listed)']\n",
    "\n",
    "mFile = open('./ml-latest-small/movies.csv', encoding = 'utf-8')\n",
    "movieFile = list(csv.reader(mFile, delimiter = ','))\n",
    "movieFile.pop(0)\n",
    "\n",
    "rFile = open('./ml-latest-small/ratings.csv')\n",
    "ratingsFile = list(csv.reader(rFile, delimiter = ','))\n",
    "ratingsFile.pop(0)"
   ]
  },
  {
   "cell_type": "markdown",
   "metadata": {},
   "source": [
    "### *Dictionaries*\n",
    "**movies**: Key = the movie number and the value is the name of the movie\n",
    "\n",
    "**genres**: Key = the movie number and each movie number has a list of the genres that describe it.\n",
    "\n",
    "**ratings**: Key = user ID (in this case 1-610) and the value is a tuple holding the movie # and the rating the user gave the movie\n",
    "\n",
    "**MovieR**: Key is the movie number and the value is the average rating that people gave the movie\n",
    "\n",
    "**genreX**: Key is the movie number and the value is an array of length *genreKey* where each index is a number from 0-1 (most of them are 0s) of how much of one genre the movie is. So if the movie was Drama and Action then it would be **0.5** Drama and **0.5** Action\n",
    "\n",
    "**theta**: Key is the user # and the value is an array of length *genreKey* that has each user's genre preference scores (if they really like action then the action value will be the highest) "
   ]
  },
  {
   "cell_type": "code",
   "execution_count": 3,
   "metadata": {
    "collapsed": true
   },
   "outputs": [],
   "source": [
    "#movies[movie#] = name\n",
    "movies = {}\n",
    "#genres[movie#] = [nGenres]\n",
    "genres = {}\n",
    "#ratings[user#] = (movie#, rating)\n",
    "ratings = {}\n",
    "#movieR[movie#] = rating\n",
    "movieR = {}\n",
    "#genreX[movie#] = [genre%]\n",
    "genreX = {}\n",
    "#theta[user#] = [genrePreferences]\n",
    "theta = {}"
   ]
  },
  {
   "cell_type": "markdown",
   "metadata": {},
   "source": [
    "### *Filling Dictionaries*\n"
   ]
  },
  {
   "cell_type": "code",
   "execution_count": 4,
   "metadata": {},
   "outputs": [
    {
     "name": "stdout",
     "output_type": "stream",
     "text": [
      "2000 finished.\n",
      "3000 finished.\n",
      "4000 finished.\n",
      "7000 finished.\n",
      "31000 finished.\n",
      "53000 finished.\n",
      "86000 finished.\n",
      "Done!\n"
     ]
    }
   ],
   "source": [
    "for line in movieFile:\n",
    "    movies[line[0]] = line[1]\n",
    "    genres[line[0]] = line[2].split('|')\n",
    "\n",
    "for x in range(NUM_USERS):\n",
    "    ratings[str(x+1)] = []\n",
    "    theta[str(x+1)] = np.random.uniform(size=len(genreKey))\n",
    "\n",
    "for line in ratingsFile:\n",
    "    ratings[line[0]].append((line[1], line[2]))\n",
    "\n",
    "for movie in movies:\n",
    "    ratingAvg = 0\n",
    "    numRatings = 1\n",
    "    for u in ratings:\n",
    "        for r in ratings[u]:\n",
    "            if movie == ratings[u][0]:\n",
    "                ratingAvg += ratings[u][1]\n",
    "                numRatings += 1\n",
    "    movieR[movie] = ratingAvg / numRatings\n",
    "    if int(movie) % 1000 == 0:\n",
    "        print(movie + \" finished.\")\n",
    "        \n",
    "print(\"Done!\")\n",
    "\n",
    "for k in movies:\n",
    "    genreX[k] = np.zeros(len(genreKey))\n",
    "\n",
    "counter = 0\n",
    "\n",
    "\n",
    "for k in genres:\n",
    "    for genre in genres[k]:\n",
    "        counter += 1\n",
    "    for genre in genres[k]:\n",
    "        genreX[k][genreKey.index(genre)] = 1 / counter\n",
    "    counter = 0"
   ]
  },
  {
   "cell_type": "markdown",
   "metadata": {},
   "source": [
    "### *Learning Algorithm*\n",
    "<img src=\"GradDescent.png\" style=\"width:1325px;height:150px;\">\n"
   ]
  },
  {
   "cell_type": "code",
   "execution_count": 5,
   "metadata": {
    "collapsed": true
   },
   "outputs": [],
   "source": [
    "for k in ratings:\n",
    "    m = len(ratings[k]) - 1\n",
    "    movieSum = 0\n",
    "\n",
    "    for x in range(1, (m-1)):\n",
    "        y = ratings[k][x][1]\n",
    "        movieSum += ((theta[k].T * genreX[ratings[k][x][0]]) - float(y)) * genreX[ratings[k][x][0]]\n",
    "\n",
    "    theta[k] = theta[k] - learning_rate * movieSum"
   ]
  },
  {
   "cell_type": "markdown",
   "metadata": {},
   "source": [
    "### *Interface* "
   ]
  },
  {
   "cell_type": "code",
   "execution_count": 11,
   "metadata": {},
   "outputs": [
    {
     "name": "stdout",
     "output_type": "stream",
     "text": [
      "Please input a user number (1-610): 3\n",
      "How many movie recommendations (if possible) would you like?: 10\n",
      "User 3's favorite genre is: Sci-Fi\n",
      "10 recommendations for user 3:\n",
      "Terminator 2: Judgment Day (1991)\n",
      "Barb Wire (1996)\n",
      "Star Trek V: The Final Frontier (1989)\n",
      "Starship Troopers (1997)\n",
      "King Kong vs. Godzilla (Kingukongu tai Gojira) (1962)\n",
      "Beneath the Planet of the Apes (1970)\n",
      "Battle for the Planet of the Apes (1973)\n",
      "Conquest of the Planet of the Apes (1972)\n",
      "Escape from the Planet of the Apes (1971)\n",
      "Wing Commander (1999)\n"
     ]
    }
   ],
   "source": [
    "token = 0\n",
    "\n",
    "token = input(\"Please input a user number (1-\" + str(NUM_USERS) + \"): \")\n",
    "recommend = input(\"How many movie recommendations (if possible) would you like?: \")\n",
    "\n",
    "try:\n",
    "    favorite = 0\n",
    "    favoriteIndex = 0\n",
    "    sFavoriteIndex = 0\n",
    "    index = 0\n",
    "\n",
    "    for genre in theta[str(token)]:\n",
    "        if genre > favorite:\n",
    "            favorite = genre\n",
    "            sFavoriteIndex = favoriteIndex\n",
    "            favoriteIndex = index\n",
    "        index += 1\n",
    "\n",
    "    print(\"User \" + str(token) + \"'s favorite genre is: \" + genreKey[favoriteIndex])\n",
    "\n",
    "    recommendations = []\n",
    "    gRatings = []\n",
    "\n",
    "    for k in movies:\n",
    "        watched = False\n",
    "        for m in ratings[str(token)]:\n",
    "            if m[0] == k:\n",
    "                watched = True\n",
    "        \n",
    "        if (genreKey[favoriteIndex] in genres[k] and genreKey[sFavoriteIndex] in genres[k]) and not watched:\n",
    "            gRating = np.sum(theta[str(token)] * genreX[k])\n",
    "            if len(recommendations) < int(recommend):\n",
    "                recommendations.append(movies[k])\n",
    "                gRatings.append(gRating)\n",
    "            else:\n",
    "                swap = False\n",
    "                counter = 0\n",
    "                while(not swap and counter < len(recommendations)):\n",
    "                    if gRatings[counter] < gRating:\n",
    "                        recommendations[counter] = movies[k]\n",
    "                        gRatings[counter] = gRating\n",
    "                        swap = True\n",
    "                    counter += 1\n",
    "                    \n",
    "    print(recommend + \" recommendations for user \" + token + \":\")\n",
    "    for movie in recommendations:\n",
    "        print(movie)\n",
    "\n",
    "except:\n",
    "    print(\"Something went wrong\")"
   ]
  },
  {
   "cell_type": "code",
   "execution_count": null,
   "metadata": {
    "collapsed": true
   },
   "outputs": [],
   "source": []
  }
 ],
 "metadata": {
  "kernelspec": {
   "display_name": "Python 3",
   "language": "python",
   "name": "python3"
  },
  "language_info": {
   "codemirror_mode": {
    "name": "ipython",
    "version": 3
   },
   "file_extension": ".py",
   "mimetype": "text/x-python",
   "name": "python",
   "nbconvert_exporter": "python",
   "pygments_lexer": "ipython3",
   "version": "3.6.1"
  }
 },
 "nbformat": 4,
 "nbformat_minor": 2
}
